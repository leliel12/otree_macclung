{
 "cells": [
  {
   "cell_type": "markdown",
   "metadata": {},
   "source": [
    "# McClung Experiment Estimation"
   ]
  },
  {
   "cell_type": "code",
   "execution_count": 1,
   "metadata": {
    "collapsed": false
   },
   "outputs": [],
   "source": [
    "import numpy as np\n",
    "import pert"
   ]
  },
  {
   "cell_type": "markdown",
   "metadata": {},
   "source": [
    "Task dictionary, every key is a task and every body is a tuple with the `(o, p, m)`\n",
    "\n",
    "Where:\n",
    "\n",
    "- optimistic time (O): the minimum possible time required to accomplish a\n",
    "  task, assuming everything proceeds better than is normally expected\n",
    "- pessimistic time (P): the maximum possible time required to accomplish a\n",
    "  task, assuming everything goes wrong (but excluding major catastrophes).\n",
    "- most likely time (M): the best estimate of the time required to\n",
    "  accomplish a task, assuming everything proceeds as normal."
   ]
  },
  {
   "cell_type": "markdown",
   "metadata": {},
   "source": [
    "All times are expresed in **hours**"
   ]
  },
  {
   "cell_type": "code",
   "execution_count": 2,
   "metadata": {
    "collapsed": true
   },
   "outputs": [],
   "source": [
    "tasks = {\n",
    "    \"setup\": (1, 2, 2),\n",
    "    \"Instructions (Game 2 + private account + project + total reward)\": (2, 4, 3),\n",
    "    \"Comprhensions\": (4, 5, 4),\n",
    "    \"Instrucions and game\": (6, 12, 8),\n",
    "    \"Last Question\": (1, 2, 2)\n",
    "}"
   ]
  },
  {
   "cell_type": "markdown",
   "metadata": {},
   "source": [
    "### Expected time by taks"
   ]
  },
  {
   "cell_type": "markdown",
   "metadata": {},
   "source": [
    "the best estimate of the time required to accomplish a\n",
    "task, accounting for the fact that things don't always proceed as normal\n",
    "(the implication being that the expected time is the average time the\n",
    "task would require if the task were repeated on a number of occasions over\n",
    "an extended period of time).\n",
    "\n",
    "```\n",
    "TE = (O + 4M + P) / 6\n",
    "```"
   ]
  },
  {
   "cell_type": "code",
   "execution_count": 3,
   "metadata": {
    "collapsed": false
   },
   "outputs": [
    {
     "name": "stdout",
     "output_type": "stream",
     "text": [
      "                 Comprhensions - 4.17 hs\n",
      "                         setup - 1.83 hs\n",
      "                 Last Question - 1.83 hs\n",
      "          Instrucions and game - 8.33 hs\n",
      "Instructions (Game 2 + private account + project + total reward) - 3.00 hs\n"
     ]
    }
   ],
   "source": [
    "for k, v in tasks.items():\n",
    "    print k.rjust(30), \"-\", \"%.2f hs\" % pert.expect(*v)"
   ]
  },
  {
   "cell_type": "markdown",
   "metadata": {},
   "source": [
    "### Global Estimation\n",
    "\n",
    "Create a estimation for a set of values. This return three range of values with probablilities of 68.2%, 95.4%, 99.7%"
   ]
  },
  {
   "cell_type": "code",
   "execution_count": 4,
   "metadata": {
    "collapsed": false
   },
   "outputs": [],
   "source": [
    "optimists = [v[0] for v in tasks.values()]\n",
    "pesimists = [v[1] for v in tasks.values()]\n",
    "most_likely = [v[2] for v in tasks.values()]"
   ]
  },
  {
   "cell_type": "code",
   "execution_count": 5,
   "metadata": {
    "collapsed": false
   },
   "outputs": [
    {
     "name": "stdout",
     "output_type": "stream",
     "text": [
      "With 68.2% of probability the project will be ended in between 17.33 and 22.83 hours\n",
      "With 95.4% of probability the project will be ended in between 15.50 and 22.83 hours\n",
      "With 99.7% of probability the project will be ended in between 13.67 and 24.67 hours\n"
     ]
    }
   ],
   "source": [
    "probs = pert.estimate(optimists, pesimists, most_likely)\n",
    "\n",
    "print \"With {0}% of probability the project will be ended in between {1:.2f} and {2:.2f} hours\".format(\"68.2\", *probs[0])\n",
    "print \"With {0}% of probability the project will be ended in between {1:.2f} and {2:.2f} hours\".format(\"95.4\", *probs[1])\n",
    "print \"With {0}% of probability the project will be ended in between {1:.2f} and {2:.2f} hours\".format(\"99.7\", *probs[2])"
   ]
  },
  {
   "cell_type": "markdown",
   "metadata": {},
   "source": [
    "### Conclusion\n",
    "\n",
    "My fee: **u$s 25/hour**\n",
    "\n",
    "-   The project will be made in a range between of **18.33** and **27.67** hours\n",
    "\n",
    "In money the project will cost in between **367 usd** and **554 usd**"
   ]
  },
  {
   "cell_type": "code",
   "execution_count": 6,
   "metadata": {
    "collapsed": false
   },
   "outputs": [
    {
     "data": {
      "text/plain": [
       "'2016-05-26T00:19:33.862893'"
      ]
     },
     "execution_count": 6,
     "metadata": {},
     "output_type": "execute_result"
    }
   ],
   "source": [
    "import datetime; datetime.datetime.now().isoformat()"
   ]
  },
  {
   "cell_type": "markdown",
   "metadata": {
    "collapsed": true
   },
   "source": [
    "**An estimation is not a deadline**"
   ]
  },
  {
   "cell_type": "code",
   "execution_count": null,
   "metadata": {
    "collapsed": true
   },
   "outputs": [],
   "source": []
  }
 ],
 "metadata": {
  "kernelspec": {
   "display_name": "Python 2",
   "language": "python",
   "name": "python2"
  },
  "language_info": {
   "codemirror_mode": {
    "name": "ipython",
    "version": 2
   },
   "file_extension": ".py",
   "mimetype": "text/x-python",
   "name": "python",
   "nbconvert_exporter": "python",
   "pygments_lexer": "ipython2",
   "version": "2.7.10"
  }
 },
 "nbformat": 4,
 "nbformat_minor": 0
}
